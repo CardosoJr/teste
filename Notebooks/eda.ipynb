{
 "cells": [
  {
   "cell_type": "code",
   "execution_count": 1,
   "id": "f82ff2be",
   "metadata": {},
   "outputs": [],
   "source": [
    "import pandas as pd\n",
    "from pathlib import Path"
   ]
  },
  {
   "cell_type": "code",
   "execution_count": 2,
   "id": "e36448b2",
   "metadata": {},
   "outputs": [
    {
     "data": {
      "text/plain": [
       "'C:\\\\Code\\\\Exemplo\\\\teste'"
      ]
     },
     "execution_count": 2,
     "metadata": {},
     "output_type": "execute_result"
    }
   ],
   "source": [
    "str(Path(\"../\").resolve())"
   ]
  },
  {
   "cell_type": "code",
   "execution_count": 3,
   "id": "15bff7c4",
   "metadata": {},
   "outputs": [],
   "source": [
    "import os\n",
    "os.chdir(str(Path(\"../\")))"
   ]
  },
  {
   "cell_type": "code",
   "execution_count": 4,
   "id": "743e9819",
   "metadata": {},
   "outputs": [],
   "source": [
    "import src.preprocessing as f"
   ]
  },
  {
   "cell_type": "code",
   "execution_count": 7,
   "id": "4bb75777",
   "metadata": {},
   "outputs": [],
   "source": [
    "from src.teste.exemplo import funcao"
   ]
  },
  {
   "cell_type": "code",
   "execution_count": 5,
   "id": "975df867",
   "metadata": {},
   "outputs": [],
   "source": [
    "import src.teste.exemplo as e"
   ]
  },
  {
   "cell_type": "code",
   "execution_count": null,
   "id": "5da4b58a",
   "metadata": {},
   "outputs": [
    {
     "name": "stdout",
     "output_type": "stream",
     "text": [
      "oii\n"
     ]
    }
   ],
   "source": [
    "funcao()"
   ]
  },
  {
   "cell_type": "code",
   "execution_count": 2,
   "id": "6c626cdf",
   "metadata": {},
   "outputs": [
    {
     "data": {
      "text/html": [
       "<div>\n",
       "<style scoped>\n",
       "    .dataframe tbody tr th:only-of-type {\n",
       "        vertical-align: middle;\n",
       "    }\n",
       "\n",
       "    .dataframe tbody tr th {\n",
       "        vertical-align: top;\n",
       "    }\n",
       "\n",
       "    .dataframe thead th {\n",
       "        text-align: right;\n",
       "    }\n",
       "</style>\n",
       "<table border=\"1\" class=\"dataframe\">\n",
       "  <thead>\n",
       "    <tr style=\"text-align: right;\">\n",
       "      <th></th>\n",
       "      <th>Idade</th>\n",
       "      <th>Turnover</th>\n",
       "      <th>ViagensTrabalho</th>\n",
       "      <th>Departamento</th>\n",
       "      <th>DistanciaCasa</th>\n",
       "      <th>NivelEducacao</th>\n",
       "      <th>Educacao</th>\n",
       "      <th>NumeroEmpregado</th>\n",
       "      <th>NivelSatisfacaoAmbiente</th>\n",
       "      <th>Genero</th>\n",
       "      <th>...</th>\n",
       "      <th>PercentualAumentoSalario</th>\n",
       "      <th>AvaliacaoDesempenho</th>\n",
       "      <th>QtdeHorasTrabalhadasPadrao</th>\n",
       "      <th>TotalAnosTrabalhados</th>\n",
       "      <th>TreinamentosUltimoAno</th>\n",
       "      <th>BalanceamentoVidaTrabalho</th>\n",
       "      <th>QtdeAnosNaEmpresaAtual</th>\n",
       "      <th>QtdeAnosNoCargoAtual</th>\n",
       "      <th>QtdeAnosDesdeUltimaPromocao</th>\n",
       "      <th>QtdeAnosComGerenteAtual</th>\n",
       "    </tr>\n",
       "  </thead>\n",
       "  <tbody>\n",
       "    <tr>\n",
       "      <th>0</th>\n",
       "      <td>41.0</td>\n",
       "      <td>Yes</td>\n",
       "      <td>Travel_Rarely</td>\n",
       "      <td>Sales</td>\n",
       "      <td>1</td>\n",
       "      <td>2</td>\n",
       "      <td>Life Sciences</td>\n",
       "      <td>1</td>\n",
       "      <td>2</td>\n",
       "      <td>Female</td>\n",
       "      <td>...</td>\n",
       "      <td>11</td>\n",
       "      <td>3</td>\n",
       "      <td>80</td>\n",
       "      <td>8</td>\n",
       "      <td>0</td>\n",
       "      <td>1</td>\n",
       "      <td>6</td>\n",
       "      <td>4</td>\n",
       "      <td>0</td>\n",
       "      <td>5</td>\n",
       "    </tr>\n",
       "    <tr>\n",
       "      <th>1</th>\n",
       "      <td>49.0</td>\n",
       "      <td>No</td>\n",
       "      <td>Travel_Frequently</td>\n",
       "      <td>Research &amp; Development</td>\n",
       "      <td>8</td>\n",
       "      <td>1</td>\n",
       "      <td>Life Sciences</td>\n",
       "      <td>2</td>\n",
       "      <td>3</td>\n",
       "      <td>Male</td>\n",
       "      <td>...</td>\n",
       "      <td>23</td>\n",
       "      <td>4</td>\n",
       "      <td>80</td>\n",
       "      <td>10</td>\n",
       "      <td>3</td>\n",
       "      <td>3</td>\n",
       "      <td>10</td>\n",
       "      <td>7</td>\n",
       "      <td>1</td>\n",
       "      <td>7</td>\n",
       "    </tr>\n",
       "    <tr>\n",
       "      <th>2</th>\n",
       "      <td>37.0</td>\n",
       "      <td>Yes</td>\n",
       "      <td>Travel_Rarely</td>\n",
       "      <td>Research &amp; Development</td>\n",
       "      <td>2</td>\n",
       "      <td>2</td>\n",
       "      <td>Other</td>\n",
       "      <td>4</td>\n",
       "      <td>4</td>\n",
       "      <td>Male</td>\n",
       "      <td>...</td>\n",
       "      <td>15</td>\n",
       "      <td>3</td>\n",
       "      <td>80</td>\n",
       "      <td>7</td>\n",
       "      <td>3</td>\n",
       "      <td>3</td>\n",
       "      <td>0</td>\n",
       "      <td>0</td>\n",
       "      <td>0</td>\n",
       "      <td>0</td>\n",
       "    </tr>\n",
       "    <tr>\n",
       "      <th>3</th>\n",
       "      <td>33.0</td>\n",
       "      <td>No</td>\n",
       "      <td>Travel_Frequently</td>\n",
       "      <td>Research &amp; Development</td>\n",
       "      <td>3</td>\n",
       "      <td>4</td>\n",
       "      <td>Life Sciences</td>\n",
       "      <td>5</td>\n",
       "      <td>4</td>\n",
       "      <td>Female</td>\n",
       "      <td>...</td>\n",
       "      <td>11</td>\n",
       "      <td>3</td>\n",
       "      <td>80</td>\n",
       "      <td>8</td>\n",
       "      <td>3</td>\n",
       "      <td>3</td>\n",
       "      <td>8</td>\n",
       "      <td>7</td>\n",
       "      <td>3</td>\n",
       "      <td>0</td>\n",
       "    </tr>\n",
       "    <tr>\n",
       "      <th>4</th>\n",
       "      <td>27.0</td>\n",
       "      <td>No</td>\n",
       "      <td>Travel_Rarely</td>\n",
       "      <td>Research &amp; Development</td>\n",
       "      <td>2</td>\n",
       "      <td>1</td>\n",
       "      <td>Medical</td>\n",
       "      <td>7</td>\n",
       "      <td>1</td>\n",
       "      <td>Male</td>\n",
       "      <td>...</td>\n",
       "      <td>12</td>\n",
       "      <td>3</td>\n",
       "      <td>80</td>\n",
       "      <td>6</td>\n",
       "      <td>3</td>\n",
       "      <td>3</td>\n",
       "      <td>2</td>\n",
       "      <td>2</td>\n",
       "      <td>2</td>\n",
       "      <td>2</td>\n",
       "    </tr>\n",
       "  </tbody>\n",
       "</table>\n",
       "<p>5 rows × 30 columns</p>\n",
       "</div>"
      ],
      "text/plain": [
       "   Idade Turnover    ViagensTrabalho            Departamento  DistanciaCasa  \\\n",
       "0   41.0      Yes      Travel_Rarely                   Sales              1   \n",
       "1   49.0       No  Travel_Frequently  Research & Development              8   \n",
       "2   37.0      Yes      Travel_Rarely  Research & Development              2   \n",
       "3   33.0       No  Travel_Frequently  Research & Development              3   \n",
       "4   27.0       No      Travel_Rarely  Research & Development              2   \n",
       "\n",
       "   NivelEducacao       Educacao  NumeroEmpregado  NivelSatisfacaoAmbiente  \\\n",
       "0              2  Life Sciences                1                        2   \n",
       "1              1  Life Sciences                2                        3   \n",
       "2              2          Other                4                        4   \n",
       "3              4  Life Sciences                5                        4   \n",
       "4              1        Medical                7                        1   \n",
       "\n",
       "   Genero  ...  PercentualAumentoSalario  AvaliacaoDesempenho  \\\n",
       "0  Female  ...                        11                    3   \n",
       "1    Male  ...                        23                    4   \n",
       "2    Male  ...                        15                    3   \n",
       "3  Female  ...                        11                    3   \n",
       "4    Male  ...                        12                    3   \n",
       "\n",
       "   QtdeHorasTrabalhadasPadrao TotalAnosTrabalhados  TreinamentosUltimoAno  \\\n",
       "0                          80                    8                      0   \n",
       "1                          80                   10                      3   \n",
       "2                          80                    7                      3   \n",
       "3                          80                    8                      3   \n",
       "4                          80                    6                      3   \n",
       "\n",
       "  BalanceamentoVidaTrabalho  QtdeAnosNaEmpresaAtual  QtdeAnosNoCargoAtual  \\\n",
       "0                         1                       6                     4   \n",
       "1                         3                      10                     7   \n",
       "2                         3                       0                     0   \n",
       "3                         3                       8                     7   \n",
       "4                         3                       2                     2   \n",
       "\n",
       "  QtdeAnosDesdeUltimaPromocao QtdeAnosComGerenteAtual  \n",
       "0                           0                       5  \n",
       "1                           1                       7  \n",
       "2                           0                       0  \n",
       "3                           3                       0  \n",
       "4                           2                       2  \n",
       "\n",
       "[5 rows x 30 columns]"
      ]
     },
     "execution_count": 2,
     "metadata": {},
     "output_type": "execute_result"
    }
   ],
   "source": [
    "df = pd.read_csv(Path(\"../Data/turnover.csv\"))\n",
    "df.head()"
   ]
  },
  {
   "cell_type": "code",
   "execution_count": 3,
   "id": "6a618343",
   "metadata": {},
   "outputs": [
    {
     "name": "stdout",
     "output_type": "stream",
     "text": [
      "1470\n",
      "19999\n",
      "1009\n"
     ]
    }
   ],
   "source": [
    "print(len(df))\n",
    "print(df['RendaMensal'].max())\n",
    "print(df['RendaMensal'].min())"
   ]
  },
  {
   "cell_type": "code",
   "execution_count": 4,
   "id": "18e8f1ac",
   "metadata": {},
   "outputs": [
    {
     "name": "stdout",
     "output_type": "stream",
     "text": [
      "15918.844858712997\n",
      "-2912.982273678983\n"
     ]
    }
   ],
   "source": [
    "print(df['RendaMensal'].mean() + 2 * df['RendaMensal'].std())\n",
    "print(df['RendaMensal'].mean() - 2 * df['RendaMensal'].std())"
   ]
  },
  {
   "cell_type": "code",
   "execution_count": 10,
   "id": "2baa099e",
   "metadata": {},
   "outputs": [],
   "source": [
    "df = f.remover_outliers(df, 'RendaMensal')"
   ]
  },
  {
   "cell_type": "code",
   "execution_count": 8,
   "id": "e3c46a13",
   "metadata": {},
   "outputs": [
    {
     "name": "stdout",
     "output_type": "stream",
     "text": [
      "1342\n",
      "15787\n",
      "1009\n"
     ]
    }
   ],
   "source": [
    "print(len(df))\n",
    "print(df['RendaMensal'].max())\n",
    "print(df['RendaMensal'].min())"
   ]
  },
  {
   "cell_type": "code",
   "execution_count": null,
   "id": "f74b7ed9",
   "metadata": {},
   "outputs": [],
   "source": []
  },
  {
   "cell_type": "code",
   "execution_count": null,
   "id": "f1c63af6",
   "metadata": {},
   "outputs": [
    {
     "data": {
      "text/plain": [
       "2"
      ]
     },
     "execution_count": 2,
     "metadata": {},
     "output_type": "execute_result"
    }
   ],
   "source": []
  }
 ],
 "metadata": {
  "kernelspec": {
   "display_name": "base",
   "language": "python",
   "name": "python3"
  },
  "language_info": {
   "codemirror_mode": {
    "name": "ipython",
    "version": 3
   },
   "file_extension": ".py",
   "mimetype": "text/x-python",
   "name": "python",
   "nbconvert_exporter": "python",
   "pygments_lexer": "ipython3",
   "version": "3.11.7"
  }
 },
 "nbformat": 4,
 "nbformat_minor": 5
}
